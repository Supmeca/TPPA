from scipy.optimize import minimize
import numpy as npy
import matplotlib.pyplot as plt
