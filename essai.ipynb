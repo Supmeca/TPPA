#!/usr/bin/env python3
# -*- coding: utf-8 -*-
"""
Created on Sun Nov 18 23:10:24 2018

@author: Pierrem
"""

from scipy.optimize import minimize
import numpy as npy
import matplotlib.pyplot as plt
